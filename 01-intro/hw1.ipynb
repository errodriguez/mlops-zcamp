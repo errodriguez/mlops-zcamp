{
 "cells": [
  {
   "cell_type": "markdown",
   "id": "90ab0e41-26d3-4279-a70f-4f121167f5fe",
   "metadata": {},
   "source": [
    "## Homework\n",
    "\n",
    "The goal of this homework is to train a simple model for predicting the duration of a ride."
   ]
  },
  {
   "cell_type": "markdown",
   "id": "47ec8f68-d3a8-4bc0-892b-101b1377f147",
   "metadata": {},
   "source": [
    "## Q1. Downloading the data\n",
    "\n",
    "We'll use [the same NYC taxi dataset](https://www1.nyc.gov/site/tlc/about/tlc-trip-record-data.page),\n",
    "but instead of \"**Green** Taxi Trip Records\", we'll use \"**Yellow** Taxi Trip Records\".\n",
    "\n",
    "Download the data for January and February 2023."
   ]
  },
  {
   "cell_type": "code",
   "execution_count": 44,
   "id": "85b6d94e-9d86-40cc-8aeb-25f38eff2e67",
   "metadata": {
    "execution": {
     "iopub.execute_input": "2025-05-19T03:56:07.477141Z",
     "iopub.status.busy": "2025-05-19T03:56:07.476814Z",
     "iopub.status.idle": "2025-05-19T03:56:08.228192Z",
     "shell.execute_reply": "2025-05-19T03:56:08.227774Z",
     "shell.execute_reply.started": "2025-05-19T03:56:07.477117Z"
    }
   },
   "outputs": [
    {
     "name": "stdout",
     "output_type": "stream",
     "text": [
      "Requirement already satisfied: pandas in /Users/lalo/Applications/Miniconda3/miniconda3/envs/mlzcamp/lib/python3.13/site-packages (2.2.3)\n",
      "Requirement already satisfied: seaborn in /Users/lalo/Applications/Miniconda3/miniconda3/envs/mlzcamp/lib/python3.13/site-packages (0.13.2)\n",
      "Requirement already satisfied: matplotlib in /Users/lalo/Applications/Miniconda3/miniconda3/envs/mlzcamp/lib/python3.13/site-packages (3.10.3)\n",
      "Requirement already satisfied: scikit-learn in /Users/lalo/Applications/Miniconda3/miniconda3/envs/mlzcamp/lib/python3.13/site-packages (1.6.1)\n",
      "Requirement already satisfied: pyarrow in /Users/lalo/Applications/Miniconda3/miniconda3/envs/mlzcamp/lib/python3.13/site-packages (20.0.0)\n",
      "Requirement already satisfied: numpy>=1.26.0 in /Users/lalo/Applications/Miniconda3/miniconda3/envs/mlzcamp/lib/python3.13/site-packages (from pandas) (2.2.6)\n",
      "Requirement already satisfied: python-dateutil>=2.8.2 in /Users/lalo/Applications/Miniconda3/miniconda3/envs/mlzcamp/lib/python3.13/site-packages (from pandas) (2.9.0.post0)\n",
      "Requirement already satisfied: pytz>=2020.1 in /Users/lalo/Applications/Miniconda3/miniconda3/envs/mlzcamp/lib/python3.13/site-packages (from pandas) (2025.2)\n",
      "Requirement already satisfied: tzdata>=2022.7 in /Users/lalo/Applications/Miniconda3/miniconda3/envs/mlzcamp/lib/python3.13/site-packages (from pandas) (2025.2)\n",
      "Requirement already satisfied: contourpy>=1.0.1 in /Users/lalo/Applications/Miniconda3/miniconda3/envs/mlzcamp/lib/python3.13/site-packages (from matplotlib) (1.3.2)\n",
      "Requirement already satisfied: cycler>=0.10 in /Users/lalo/Applications/Miniconda3/miniconda3/envs/mlzcamp/lib/python3.13/site-packages (from matplotlib) (0.12.1)\n",
      "Requirement already satisfied: fonttools>=4.22.0 in /Users/lalo/Applications/Miniconda3/miniconda3/envs/mlzcamp/lib/python3.13/site-packages (from matplotlib) (4.58.0)\n",
      "Requirement already satisfied: kiwisolver>=1.3.1 in /Users/lalo/Applications/Miniconda3/miniconda3/envs/mlzcamp/lib/python3.13/site-packages (from matplotlib) (1.4.8)\n",
      "Requirement already satisfied: packaging>=20.0 in /Users/lalo/Applications/Miniconda3/miniconda3/envs/mlzcamp/lib/python3.13/site-packages (from matplotlib) (25.0)\n",
      "Requirement already satisfied: pillow>=8 in /Users/lalo/Applications/Miniconda3/miniconda3/envs/mlzcamp/lib/python3.13/site-packages (from matplotlib) (11.2.1)\n",
      "Requirement already satisfied: pyparsing>=2.3.1 in /Users/lalo/Applications/Miniconda3/miniconda3/envs/mlzcamp/lib/python3.13/site-packages (from matplotlib) (3.2.3)\n",
      "Requirement already satisfied: scipy>=1.6.0 in /Users/lalo/Applications/Miniconda3/miniconda3/envs/mlzcamp/lib/python3.13/site-packages (from scikit-learn) (1.15.3)\n",
      "Requirement already satisfied: joblib>=1.2.0 in /Users/lalo/Applications/Miniconda3/miniconda3/envs/mlzcamp/lib/python3.13/site-packages (from scikit-learn) (1.5.0)\n",
      "Requirement already satisfied: threadpoolctl>=3.1.0 in /Users/lalo/Applications/Miniconda3/miniconda3/envs/mlzcamp/lib/python3.13/site-packages (from scikit-learn) (3.6.0)\n",
      "Requirement already satisfied: six>=1.5 in /Users/lalo/Applications/Miniconda3/miniconda3/envs/mlzcamp/lib/python3.13/site-packages (from python-dateutil>=2.8.2->pandas) (1.17.0)\n"
     ]
    }
   ],
   "source": [
    "!pip install pandas seaborn matplotlib scikit-learn pyarrow"
   ]
  },
  {
   "cell_type": "code",
   "execution_count": 45,
   "id": "b9567590-a851-491c-94b8-38bd0b19bfd9",
   "metadata": {
    "execution": {
     "iopub.execute_input": "2025-05-19T03:56:08.229661Z",
     "iopub.status.busy": "2025-05-19T03:56:08.229473Z",
     "iopub.status.idle": "2025-05-19T03:56:08.234959Z",
     "shell.execute_reply": "2025-05-19T03:56:08.233706Z",
     "shell.execute_reply.started": "2025-05-19T03:56:08.229601Z"
    }
   },
   "outputs": [],
   "source": [
    "import pandas as pd\n",
    "import seaborn as sns\n",
    "import matplotlib.pyplot as plt\n",
    "import pickle\n",
    "from sklearn.feature_extraction import DictVectorizer\n",
    "from sklearn.linear_model import LinearRegression\n",
    "from sklearn.linear_model import Lasso\n",
    "from sklearn.linear_model import Ridge\n",
    "from sklearn.metrics import root_mean_squared_error"
   ]
  },
  {
   "cell_type": "code",
   "execution_count": 46,
   "id": "99d76d11-7dfb-4eea-b970-e8d5a2761a9b",
   "metadata": {
    "execution": {
     "iopub.execute_input": "2025-05-19T03:56:08.236805Z",
     "iopub.status.busy": "2025-05-19T03:56:08.236519Z",
     "iopub.status.idle": "2025-05-19T03:56:08.603068Z",
     "shell.execute_reply": "2025-05-19T03:56:08.602698Z",
     "shell.execute_reply.started": "2025-05-19T03:56:08.236767Z"
    }
   },
   "outputs": [
    {
     "name": "stdout",
     "output_type": "stream",
     "text": [
      "<class 'pandas.core.frame.DataFrame'>\n",
      "RangeIndex: 3066766 entries, 0 to 3066765\n",
      "Data columns (total 19 columns):\n",
      " #   Column                 Dtype         \n",
      "---  ------                 -----         \n",
      " 0   VendorID               int64         \n",
      " 1   tpep_pickup_datetime   datetime64[us]\n",
      " 2   tpep_dropoff_datetime  datetime64[us]\n",
      " 3   passenger_count        float64       \n",
      " 4   trip_distance          float64       \n",
      " 5   RatecodeID             float64       \n",
      " 6   store_and_fwd_flag     object        \n",
      " 7   PULocationID           int64         \n",
      " 8   DOLocationID           int64         \n",
      " 9   payment_type           int64         \n",
      " 10  fare_amount            float64       \n",
      " 11  extra                  float64       \n",
      " 12  mta_tax                float64       \n",
      " 13  tip_amount             float64       \n",
      " 14  tolls_amount           float64       \n",
      " 15  improvement_surcharge  float64       \n",
      " 16  total_amount           float64       \n",
      " 17  congestion_surcharge   float64       \n",
      " 18  airport_fee            float64       \n",
      "dtypes: datetime64[us](2), float64(12), int64(4), object(1)\n",
      "memory usage: 444.6+ MB\n"
     ]
    }
   ],
   "source": [
    "df = pd.read_parquet('Data/yellow_tripdata_2023-01.parquet')\n",
    "df.info()"
   ]
  },
  {
   "cell_type": "markdown",
   "id": "9656e83c-39d8-40aa-8f40-8461c1b4abf8",
   "metadata": {},
   "source": [
    "Read the data for January. How many columns are there?\n",
    "\n",
    "* 16\n",
    "* 17\n",
    "* 18\n",
    "* 19 <--"
   ]
  },
  {
   "cell_type": "markdown",
   "id": "caec8af6-c22a-4c8d-b633-740c27b13ad4",
   "metadata": {},
   "source": [
    "## Q2. Computing duration\n",
    "\n",
    "Now let's compute the `duration` variable. It should contain the duration of a ride in minutes. "
   ]
  },
  {
   "cell_type": "code",
   "execution_count": 47,
   "id": "ce117931-0d6f-49ca-8200-2d8b492570f4",
   "metadata": {
    "execution": {
     "iopub.execute_input": "2025-05-19T03:56:08.603680Z",
     "iopub.status.busy": "2025-05-19T03:56:08.603522Z",
     "iopub.status.idle": "2025-05-19T03:56:13.045738Z",
     "shell.execute_reply": "2025-05-19T03:56:13.045423Z",
     "shell.execute_reply.started": "2025-05-19T03:56:08.603624Z"
    }
   },
   "outputs": [],
   "source": [
    "df['duration'] = df.tpep_dropoff_datetime - df.tpep_pickup_datetime\n",
    "df.duration = df.duration.apply(lambda td: td.total_seconds() / 60)"
   ]
  },
  {
   "cell_type": "code",
   "execution_count": 48,
   "id": "72f11e30-40ae-41ec-ae1a-339698008599",
   "metadata": {
    "execution": {
     "iopub.execute_input": "2025-05-19T03:56:13.047035Z",
     "iopub.status.busy": "2025-05-19T03:56:13.046950Z",
     "iopub.status.idle": "2025-05-19T03:56:13.066155Z",
     "shell.execute_reply": "2025-05-19T03:56:13.065831Z",
     "shell.execute_reply.started": "2025-05-19T03:56:13.047026Z"
    }
   },
   "outputs": [
    {
     "data": {
      "text/plain": [
       "np.float64(42.59435124195458)"
      ]
     },
     "execution_count": 48,
     "metadata": {},
     "output_type": "execute_result"
    }
   ],
   "source": [
    "df.duration.std()"
   ]
  },
  {
   "cell_type": "markdown",
   "id": "4fc159a7-d908-4f87-be43-7714ad80ad20",
   "metadata": {},
   "source": [
    "What's the standard deviation of the trips duration in January?\n",
    "\n",
    "* 32.59\n",
    "* 42.59  <--\n",
    "* 52.59\n",
    "* 62.59"
   ]
  },
  {
   "cell_type": "markdown",
   "id": "231b00d5-55b4-4bcd-96ea-7fb5193c79e5",
   "metadata": {},
   "source": [
    "## Q3. Dropping outliers\n",
    "\n",
    "Next, we need to check the distribution of the `duration` variable. There are some outliers. Let's remove them and keep only the records where the duration was between 1 and 60 minutes (inclusive)."
   ]
  },
  {
   "cell_type": "code",
   "execution_count": 49,
   "id": "4ccf8653-7122-4a6e-9d95-3692e8af7dc9",
   "metadata": {
    "execution": {
     "iopub.execute_input": "2025-05-19T03:56:13.067041Z",
     "iopub.status.busy": "2025-05-19T03:56:13.066928Z",
     "iopub.status.idle": "2025-05-19T03:56:13.257029Z",
     "shell.execute_reply": "2025-05-19T03:56:13.256759Z",
     "shell.execute_reply.started": "2025-05-19T03:56:13.067030Z"
    }
   },
   "outputs": [
    {
     "name": "stdout",
     "output_type": "stream",
     "text": [
      "Before:  3066766\n",
      "After:  3009173\n",
      "Proportion:  0.9812202822125979\n"
     ]
    }
   ],
   "source": [
    "prev = len(df)\n",
    "print(\"Before: \", prev)\n",
    "df = df[(df.duration >= 1) & (df.duration <= 60)]\n",
    "after = len(df)\n",
    "print(\"After: \", after)\n",
    "print(\"Proportion: \", 1-(prev-after)/prev)"
   ]
  },
  {
   "cell_type": "markdown",
   "id": "ce275ee4-ad82-49dd-bc0d-66f105daf2c8",
   "metadata": {},
   "source": [
    "What fraction of the records left after you dropped the outliers?\n",
    "\n",
    "* 90%\n",
    "* 92%\n",
    "* 95%\n",
    "* 98%  <--"
   ]
  },
  {
   "cell_type": "markdown",
   "id": "d9a95ed8-54a0-4882-bec7-ca147c7572a8",
   "metadata": {},
   "source": [
    "## Q4. One-hot encoding\n",
    "\n",
    "Let's apply one-hot encoding to the pickup and dropoff location IDs. We'll use only these two features for our model. \n",
    "\n",
    "* Turn the dataframe into a list of dictionaries (remember to re-cast the ids to strings - otherwise it will label encode them)\n",
    "* Fit a dictionary vectorizer \n",
    "* Get a feature matrix from it"
   ]
  },
  {
   "cell_type": "code",
   "execution_count": 50,
   "id": "bda07278-f2b7-45b7-b776-306c4f4e8868",
   "metadata": {
    "execution": {
     "iopub.execute_input": "2025-05-19T03:56:13.257594Z",
     "iopub.status.busy": "2025-05-19T03:56:13.257461Z",
     "iopub.status.idle": "2025-05-19T03:56:19.259610Z",
     "shell.execute_reply": "2025-05-19T03:56:19.259348Z",
     "shell.execute_reply.started": "2025-05-19T03:56:13.257583Z"
    }
   },
   "outputs": [],
   "source": [
    "categorical = ['PULocationID', 'DOLocationID']\n",
    "\n",
    "df[categorical] = df[categorical].astype(str)\n",
    "train_dicts = df[categorical].to_dict(orient='records')\n",
    "\n",
    "dv = DictVectorizer()\n",
    "X_train = dv.fit_transform(train_dicts)"
   ]
  },
  {
   "cell_type": "code",
   "execution_count": 51,
   "id": "0be8e062-dfe5-41e3-ae06-96f81c8e169f",
   "metadata": {
    "execution": {
     "iopub.execute_input": "2025-05-19T03:56:19.260053Z",
     "iopub.status.busy": "2025-05-19T03:56:19.259969Z",
     "iopub.status.idle": "2025-05-19T03:56:19.262197Z",
     "shell.execute_reply": "2025-05-19T03:56:19.261969Z",
     "shell.execute_reply.started": "2025-05-19T03:56:19.260044Z"
    }
   },
   "outputs": [
    {
     "data": {
      "text/plain": [
       "(3009173, 515)"
      ]
     },
     "execution_count": 51,
     "metadata": {},
     "output_type": "execute_result"
    }
   ],
   "source": [
    "X_train.shape"
   ]
  },
  {
   "cell_type": "markdown",
   "id": "6cecff9b-555e-4447-b62e-f558f3ad5757",
   "metadata": {},
   "source": [
    "What's the dimensionality of this matrix (number of columns)?\n",
    "\n",
    "* 2\n",
    "* 155\n",
    "* 345\n",
    "* 515  <--\n",
    "* 715"
   ]
  },
  {
   "cell_type": "markdown",
   "id": "83885853-5dbe-45fb-abdd-cc11c7299f7c",
   "metadata": {},
   "source": [
    "## Q5. Training a model\n",
    "\n",
    "Now let's use the feature matrix from the previous step to train a model. \n",
    "\n",
    "* Train a plain linear regression model with default parameters, where duration is the response variable\n",
    "* Calculate the RMSE of the model on the training data"
   ]
  },
  {
   "cell_type": "code",
   "execution_count": 52,
   "id": "0ee46b10-f49d-482f-a420-470419194d9f",
   "metadata": {
    "execution": {
     "iopub.execute_input": "2025-05-19T03:56:19.262519Z",
     "iopub.status.busy": "2025-05-19T03:56:19.262452Z",
     "iopub.status.idle": "2025-05-19T03:56:32.155021Z",
     "shell.execute_reply": "2025-05-19T03:56:32.154722Z",
     "shell.execute_reply.started": "2025-05-19T03:56:19.262512Z"
    }
   },
   "outputs": [
    {
     "data": {
      "text/plain": [
       "7.649262183753913"
      ]
     },
     "execution_count": 52,
     "metadata": {},
     "output_type": "execute_result"
    }
   ],
   "source": [
    "target = 'duration'\n",
    "y_train = df[target].values\n",
    "\n",
    "lr = LinearRegression()\n",
    "lr.fit(X_train, y_train)\n",
    "\n",
    "y_pred = lr.predict(X_train)\n",
    "\n",
    "root_mean_squared_error(y_train, y_pred)"
   ]
  },
  {
   "cell_type": "markdown",
   "id": "cc85c574-cc2e-45f8-b7e9-09e2ed4d0f47",
   "metadata": {},
   "source": [
    "What's the RMSE on train?\n",
    "\n",
    "* 3.64\n",
    "* 7.64  <--\n",
    "* 11.64\n",
    "* 16.64"
   ]
  },
  {
   "cell_type": "markdown",
   "id": "fa25f768-c793-4c26-92d8-94f8cade5de1",
   "metadata": {},
   "source": [
    "## Q6. Evaluating the model\n",
    "\n",
    "Now let's apply this model to the validation dataset (February 2023). "
   ]
  },
  {
   "cell_type": "code",
   "execution_count": 54,
   "id": "ab19cceb-5b4b-4113-ad73-5ed24613cee4",
   "metadata": {
    "execution": {
     "iopub.execute_input": "2025-05-19T03:56:48.819504Z",
     "iopub.status.busy": "2025-05-19T03:56:48.819160Z",
     "iopub.status.idle": "2025-05-19T03:56:59.411969Z",
     "shell.execute_reply": "2025-05-19T03:56:59.411669Z",
     "shell.execute_reply.started": "2025-05-19T03:56:48.819481Z"
    }
   },
   "outputs": [
    {
     "data": {
      "text/plain": [
       "7.811812092681157"
      ]
     },
     "execution_count": 54,
     "metadata": {},
     "output_type": "execute_result"
    }
   ],
   "source": [
    "df_val = pd.read_parquet('Data/yellow_tripdata_2023-02.parquet')\n",
    "df_val['duration'] = df_val.tpep_dropoff_datetime - df_val.tpep_pickup_datetime\n",
    "df_val.duration = df_val.duration.apply(lambda td: td.total_seconds() / 60)\n",
    "df_val = df_val[(df_val.duration >= 1) & (df_val.duration <= 60)]\n",
    "df_val[categorical] = df_val[categorical].astype(str)\n",
    "\n",
    "val_dicts = df_val[categorical].to_dict(orient='records')\n",
    "X_val = dv.transform(val_dicts)\n",
    "y_val = df_val[target].values\n",
    "\n",
    "y_pred = lr.predict(X_val)\n",
    "\n",
    "root_mean_squared_error(y_val, y_pred)"
   ]
  },
  {
   "cell_type": "markdown",
   "id": "58849da9-63d3-4ca1-a3bf-c18acc9a35cb",
   "metadata": {},
   "source": [
    "What's the RMSE on validation?\n",
    "\n",
    "* 3.81\n",
    "* 7.81   <--\n",
    "* 11.81\n",
    "* 16.81"
   ]
  },
  {
   "cell_type": "code",
   "execution_count": 5,
   "id": "f6ac34fe-9a97-4ca8-9e00-095dee71a2b7",
   "metadata": {
    "execution": {
     "iopub.execute_input": "2025-05-19T01:29:47.301742Z",
     "iopub.status.busy": "2025-05-19T01:29:47.301578Z",
     "iopub.status.idle": "2025-05-19T01:29:47.303656Z",
     "shell.execute_reply": "2025-05-19T01:29:47.303167Z",
     "shell.execute_reply.started": "2025-05-19T01:29:47.301731Z"
    }
   },
   "outputs": [],
   "source": [
    "\n",
    "\n",
    "df = df[(df.duration >= 1) & (df.duration <= 60)]\n",
    "\n",
    "categorical = ['PULocationID', 'DOLocationID']\n",
    "numerical = ['trip_distance']\n",
    "\n",
    "df[categorical] = df[categorical].astype(str)"
   ]
  },
  {
   "cell_type": "code",
   "execution_count": 6,
   "id": "a4fe8be0-ea3b-4326-9a91-037a7273df98",
   "metadata": {
    "execution": {
     "iopub.execute_input": "2025-05-19T01:29:48.800290Z",
     "iopub.status.busy": "2025-05-19T01:29:48.799645Z",
     "iopub.status.idle": "2025-05-19T01:30:02.972534Z",
     "shell.execute_reply": "2025-05-19T01:30:02.971628Z",
     "shell.execute_reply.started": "2025-05-19T01:29:48.800258Z"
    }
   },
   "outputs": [],
   "source": [
    "\n"
   ]
  },
  {
   "cell_type": "code",
   "execution_count": 7,
   "id": "0523abf2-f1d2-4822-9a5c-661a538b0195",
   "metadata": {
    "execution": {
     "iopub.execute_input": "2025-05-19T01:30:02.974257Z",
     "iopub.status.busy": "2025-05-19T01:30:02.973823Z",
     "iopub.status.idle": "2025-05-19T01:30:07.721011Z",
     "shell.execute_reply": "2025-05-19T01:30:07.720698Z",
     "shell.execute_reply.started": "2025-05-19T01:30:02.974227Z"
    }
   },
   "outputs": [],
   "source": []
  }
 ],
 "metadata": {
  "kernelspec": {
   "display_name": "Python 3 (ipykernel)",
   "language": "python",
   "name": "python3"
  },
  "language_info": {
   "codemirror_mode": {
    "name": "ipython",
    "version": 3
   },
   "file_extension": ".py",
   "mimetype": "text/x-python",
   "name": "python",
   "nbconvert_exporter": "python",
   "pygments_lexer": "ipython3",
   "version": "3.13.2"
  }
 },
 "nbformat": 4,
 "nbformat_minor": 5
}
