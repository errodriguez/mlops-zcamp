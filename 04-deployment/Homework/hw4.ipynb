{
 "cells": [
  {
   "cell_type": "markdown",
   "id": "4b6521ad-9bba-494c-9fc4-71e8210fafdf",
   "metadata": {},
   "source": [
    "## Homework\n",
    "\n",
    "In this homework, we'll deploy the ride duration model in batch mode. Like in homework 1, we'll use the Yellow Taxi Trip Records dataset. "
   ]
  },
  {
   "cell_type": "markdown",
   "id": "63ad5cd1-4859-469f-8d12-1630fd97f611",
   "metadata": {},
   "source": [
    "## Q1. Notebook\n",
    "\n",
    "We'll start with the same notebook we ended up with in homework 1.\n",
    "We cleaned it a little bit and kept only the scoring part. You can find the initial notebook [here](starter.ipynb).\n",
    "\n",
    "Run this notebook for the March 2023 data.\n",
    "\n",
    "What's the standard deviation of the predicted duration for this dataset?\n",
    "\n",
    "* 1.24\n",
    "* 6.24     <--\n",
    "* 12.28\n",
    "* 18.28"
   ]
  },
  {
   "cell_type": "code",
   "execution_count": 4,
   "id": "72bdf93e-6ca2-4d52-b0e9-483ff85eb0d9",
   "metadata": {
    "execution": {
     "iopub.execute_input": "2025-06-16T19:20:40.593064Z",
     "iopub.status.busy": "2025-06-16T19:20:40.592724Z",
     "iopub.status.idle": "2025-06-16T19:20:54.370069Z",
     "shell.execute_reply": "2025-06-16T19:20:54.369290Z",
     "shell.execute_reply.started": "2025-06-16T19:20:40.593040Z"
    }
   },
   "outputs": [
    {
     "name": "stderr",
     "output_type": "stream",
     "text": [
      "/Users/lalo/Applications/Miniconda3/envs/mlozc/lib/python3.13/site-packages/sklearn/base.py:440: InconsistentVersionWarning: Trying to unpickle estimator DictVectorizer from version 1.5.0 when using version 1.7.0. This might lead to breaking code or invalid results. Use at your own risk. For more info please refer to:\n",
      "https://scikit-learn.org/stable/model_persistence.html#security-maintainability-limitations\n",
      "  warnings.warn(\n",
      "/Users/lalo/Applications/Miniconda3/envs/mlozc/lib/python3.13/site-packages/sklearn/base.py:440: InconsistentVersionWarning: Trying to unpickle estimator LinearRegression from version 1.5.0 when using version 1.7.0. This might lead to breaking code or invalid results. Use at your own risk. For more info please refer to:\n",
      "https://scikit-learn.org/stable/model_persistence.html#security-maintainability-limitations\n",
      "  warnings.warn(\n"
     ]
    }
   ],
   "source": [
    "%run -n ./initial.ipynb"
   ]
  },
  {
   "cell_type": "code",
   "execution_count": 5,
   "id": "b41802ae-c9de-483e-b44b-2a41fbc745a5",
   "metadata": {
    "execution": {
     "iopub.execute_input": "2025-06-16T19:20:54.372036Z",
     "iopub.status.busy": "2025-06-16T19:20:54.371813Z",
     "iopub.status.idle": "2025-06-16T19:20:54.387141Z",
     "shell.execute_reply": "2025-06-16T19:20:54.386666Z",
     "shell.execute_reply.started": "2025-06-16T19:20:54.372024Z"
    }
   },
   "outputs": [
    {
     "data": {
      "text/plain": [
       "np.float64(6.247488852238704)"
      ]
     },
     "execution_count": 5,
     "metadata": {},
     "output_type": "execute_result"
    }
   ],
   "source": [
    "y_pred.std()"
   ]
  },
  {
   "cell_type": "markdown",
   "id": "1b556228-588d-4221-aed9-42fdaff3a823",
   "metadata": {},
   "source": [
    "## Q2. Preparing the output\n",
    "\n",
    "Like in the course videos, we want to prepare the dataframe with the output. \n",
    "\n",
    "First, let's create an artificial `ride_id` column:\n",
    "\n",
    "```python\n",
    "df['ride_id'] = f'{year:04d}/{month:02d}_' + df.index.astype('str')\n",
    "```\n",
    "\n",
    "Next, write the ride id and the predictions to a dataframe with results. \n",
    "\n",
    "Save it as parquet:\n",
    "\n",
    "```python\n",
    "df_result.to_parquet(\n",
    "    output_file,\n",
    "    engine='pyarrow',\n",
    "    compression=None,\n",
    "    index=False\n",
    ")\n",
    "```\n",
    "\n",
    "What's the size of the output file?\n",
    "\n",
    "* 36M\n",
    "* 46M\n",
    "* 56M\n",
    "* 66M    <--\n",
    "\n",
    "__Note:__ Make sure you use the snippet above for saving the file. It should contain only these two columns. For this question, don't change the\n",
    "dtypes of the columns and use `pyarrow`, not `fastparquet`. "
   ]
  },
  {
   "cell_type": "code",
   "execution_count": 13,
   "id": "18acee8b-0242-4dc8-9df0-ada6bd3045f5",
   "metadata": {
    "execution": {
     "iopub.execute_input": "2025-06-16T19:28:10.742104Z",
     "iopub.status.busy": "2025-06-16T19:28:10.741642Z",
     "iopub.status.idle": "2025-06-16T19:28:11.897527Z",
     "shell.execute_reply": "2025-06-16T19:28:11.883413Z",
     "shell.execute_reply.started": "2025-06-16T19:28:10.742067Z"
    }
   },
   "outputs": [],
   "source": [
    "year = 2023\n",
    "month = 3\n",
    "df['ride_id'] = f'{year:04d}/{month:02d}_' + df.index.astype('str')\n",
    "df_result = pd.DataFrame()\n",
    "df_result['ride_id'] = df['ride_id']\n",
    "df_result['predicted_duration'] = y_pred"
   ]
  },
  {
   "cell_type": "code",
   "execution_count": 14,
   "id": "4ffdfbda-36e6-4927-b847-04875f616e65",
   "metadata": {
    "execution": {
     "iopub.execute_input": "2025-06-16T19:28:11.899501Z",
     "iopub.status.busy": "2025-06-16T19:28:11.898625Z",
     "iopub.status.idle": "2025-06-16T19:28:12.260453Z",
     "shell.execute_reply": "2025-06-16T19:28:12.260169Z",
     "shell.execute_reply.started": "2025-06-16T19:28:11.899482Z"
    }
   },
   "outputs": [],
   "source": [
    "df_result.to_parquet(\n",
    "    \"q2_results.parquet\",\n",
    "    engine='pyarrow',\n",
    "    compression=None,\n",
    "    index=False\n",
    ")"
   ]
  },
  {
   "cell_type": "code",
   "execution_count": 15,
   "id": "997f524e-1335-4bc1-8d72-f7109f7e1367",
   "metadata": {
    "execution": {
     "iopub.execute_input": "2025-06-16T19:28:12.260881Z",
     "iopub.status.busy": "2025-06-16T19:28:12.260786Z",
     "iopub.status.idle": "2025-06-16T19:28:12.392657Z",
     "shell.execute_reply": "2025-06-16T19:28:12.392271Z",
     "shell.execute_reply.started": "2025-06-16T19:28:12.260872Z"
    }
   },
   "outputs": [
    {
     "name": "stdout",
     "output_type": "stream",
     "text": [
      "total 163936\n",
      "-rw-r--r--  1 lalo  staff    14K Jun 16 13:26 hw4.ipynb\n",
      "-rw-r--r--  1 lalo  staff   2.1K Jun 16 13:20 initial.ipynb\n",
      "-rw-r--r--  1 lalo  staff    17K May 26 15:57 model.bin\n",
      "-rw-r--r--  1 lalo  staff    65M Jun 16 13:28 q2_results.parquet\n",
      "-rw-r--r--  1 lalo  staff   2.7K Jun 16 13:12 starter.ipynb\n"
     ]
    }
   ],
   "source": [
    "!ls -lh"
   ]
  },
  {
   "cell_type": "markdown",
   "id": "4090d09c-ba0f-4445-b04d-2a91fd4eaa9c",
   "metadata": {},
   "source": [
    "## Q3. Creating the scoring script\n",
    "\n",
    "Now let's turn the notebook into a script. \n",
    "\n",
    "Which command you need to execute for that?"
   ]
  },
  {
   "cell_type": "raw",
   "id": "8fcf92cf-5b77-40a9-945a-0e78cc6bfdb6",
   "metadata": {},
   "source": [
    "!jupyter nbconvert --to script initial.ipynb"
   ]
  },
  {
   "cell_type": "markdown",
   "id": "eaf21654-6aa9-4ff2-b3a6-e5f899e793f5",
   "metadata": {},
   "source": [
    "## Q4. Virtual environment\n",
    "\n",
    "Now let's put everything into a virtual environment. We'll use pipenv for that.\n",
    "\n",
    "Install all the required libraries. Pay attention to the Scikit-Learn version: it should be the same as in the starter\n",
    "notebook.\n",
    "\n",
    "After installing the libraries, pipenv creates two files: `Pipfile`\n",
    "and `Pipfile.lock`. The `Pipfile.lock` file keeps the hashes of the\n",
    "dependencies we use for the virtual env.\n",
    "\n",
    "What's the first hash for the Scikit-Learn dependency?"
   ]
  },
  {
   "cell_type": "code",
   "execution_count": 1,
   "id": "430ee11b-63fb-403a-8021-6fa770959723",
   "metadata": {
    "execution": {
     "iopub.execute_input": "2025-06-16T20:20:23.256711Z",
     "iopub.status.busy": "2025-06-16T20:20:23.256151Z",
     "iopub.status.idle": "2025-06-16T20:20:23.403556Z",
     "shell.execute_reply": "2025-06-16T20:20:23.402822Z",
     "shell.execute_reply.started": "2025-06-16T20:20:23.256682Z"
    }
   },
   "outputs": [
    {
     "name": "stdout",
     "output_type": "stream",
     "text": [
      "        \"scikit-learn\": {\n",
      "            \"hashes\": [\n",
      "                \"sha256:014e07a23fe02e65f9392898143c542a50b6001dbe89cb867e19688e468d049b\",\n"
     ]
    }
   ],
   "source": [
    "!cat Pipfile.lock | awk '/scikit-learn/,/sha256/'"
   ]
  },
  {
   "cell_type": "markdown",
   "id": "2f7467fe-e3fd-4c3d-8df6-22b412860f92",
   "metadata": {},
   "source": [
    "## Q5. Parametrize the script\n",
    "\n",
    "Let's now make the script configurable via CLI. We'll create two \n",
    "parameters: year and month.\n",
    "\n",
    "Run the script for April 2023. \n",
    "\n",
    "What's the mean predicted duration? \n",
    "\n",
    "* 7.29\n",
    "* 14.29    <--\n",
    "* 21.29\n",
    "* 28.29\n",
    "\n",
    "Hint: just add a print statement to your script."
   ]
  },
  {
   "cell_type": "code",
   "execution_count": 2,
   "id": "998f709b-a707-4e3f-973c-f901aa591a14",
   "metadata": {
    "execution": {
     "iopub.execute_input": "2025-06-16T20:27:12.291255Z",
     "iopub.status.busy": "2025-06-16T20:27:12.290307Z",
     "iopub.status.idle": "2025-06-16T20:27:27.090979Z",
     "shell.execute_reply": "2025-06-16T20:27:27.090551Z",
     "shell.execute_reply.started": "2025-06-16T20:27:12.291200Z"
    }
   },
   "outputs": [
    {
     "name": "stdout",
     "output_type": "stream",
     "text": [
      "/Users/lalo/Applications/Miniconda3/envs/mlozc/lib/python3.13/site-packages/sklearn/base.py:440: InconsistentVersionWarning: Trying to unpickle estimator DictVectorizer from version 1.5.0 when using version 1.7.0. This might lead to breaking code or invalid results. Use at your own risk. For more info please refer to:\n",
      "https://scikit-learn.org/stable/model_persistence.html#security-maintainability-limitations\n",
      "  warnings.warn(\n",
      "/Users/lalo/Applications/Miniconda3/envs/mlozc/lib/python3.13/site-packages/sklearn/base.py:440: InconsistentVersionWarning: Trying to unpickle estimator LinearRegression from version 1.5.0 when using version 1.7.0. This might lead to breaking code or invalid results. Use at your own risk. For more info please refer to:\n",
      "https://scikit-learn.org/stable/model_persistence.html#security-maintainability-limitations\n",
      "  warnings.warn(\n",
      "predicted mean duration: 14.292282936862437\n"
     ]
    }
   ],
   "source": [
    "!chmod u+x script.py\n",
    "!./script.py  2023 04"
   ]
  },
  {
   "cell_type": "markdown",
   "id": "4da147d9-6db9-4d9c-b6e9-4eac67b37b62",
   "metadata": {},
   "source": [
    "## Q6. Docker container \n",
    "\n",
    "Finally, we'll package the script in the docker container. \n",
    "For that, you'll need to use a base image that we prepared. \n",
    "\n",
    "This is what the content of this image is:\n",
    "\n",
    "```dockerfile\n",
    "FROM python:3.10.13-slim\n",
    "\n",
    "WORKDIR /app\n",
    "COPY [ \"model2.bin\", \"model.bin\" ]\n",
    "```\n",
    "\n",
    "Note: you don't need to run it. We have already done it.\n",
    "\n",
    "It is pushed to [`agrigorev/zoomcamp-model:mlops-2024-3.10.13-slim`](https://hub.docker.com/layers/agrigorev/zoomcamp-model/mlops-2024-3.10.13-slim/images/sha256-f54535b73a8c3ef91967d5588de57d4e251b22addcbbfb6e71304a91c1c7027f?context=repo),\n",
    "which you need to use as your base image.\n",
    "\n",
    "That is, your Dockerfile should start with:\n",
    "\n",
    "```dockerfile\n",
    "FROM agrigorev/zoomcamp-model:mlops-2024-3.10.13-slim\n",
    "\n",
    "# do stuff here\n",
    "```\n",
    "\n",
    "This image already has a pickle file with a dictionary vectorizer\n",
    "and a model. You will need to use them.\n",
    "\n",
    "Important: don't copy the model to the docker image. You will need\n",
    "to use the pickle file already in the image. \n",
    "\n",
    "Now run the script with docker. What's the mean predicted duration\n",
    "for May 2023? \n",
    "\n",
    "* 0.19\n",
    "* 7.24\n",
    "* 14.24   <--\n",
    "* 21.19"
   ]
  },
  {
   "cell_type": "markdown",
   "id": "4be46479-f31b-4240-ba58-11b28a064887",
   "metadata": {},
   "source": [
    "## Bonus: upload the result to the cloud (Not graded)\n",
    "\n",
    "Just printing the mean duration inside the docker image \n",
    "doesn't seem very practical. Typically, after creating the output \n",
    "file, we upload it to the cloud storage.\n",
    "\n",
    "Modify your code to upload the parquet file to S3/GCS/etc."
   ]
  },
  {
   "cell_type": "markdown",
   "id": "68046d9e-bab1-4f10-b46e-bc664d7d51de",
   "metadata": {},
   "source": [
    "## Bonus: Use an orchestrator for batch inference\n",
    "\n",
    "Here we didn't use any orchestration. In practice we usually do.\n",
    "\n",
    "* Split the code into logical code blocks\n",
    "* Use a workflow orchestrator for the code execution"
   ]
  },
  {
   "cell_type": "markdown",
   "id": "77b00b40-409f-49ca-95ff-f584789a61a2",
   "metadata": {},
   "source": [
    "## Publishing the image to dockerhub\n",
    "\n",
    "This is how we published the image to Docker hub:\n",
    "\n",
    "```bash\n",
    "docker build -t mlops-zoomcamp-model:2024-3.10.13-slim .\n",
    "docker tag mlops-zoomcamp-model:2024-3.10.13-slim agrigorev/zoomcamp-model:mlops-2024-3.10.13-slim\n",
    "\n",
    "docker login --username USERNAME\n",
    "docker push agrigorev/zoomcamp-model:mlops-2024-3.10.13-slim\n",
    "```\n",
    "\n",
    "This is just for your reference, you don't need to do it."
   ]
  },
  {
   "cell_type": "markdown",
   "id": "34dcb0e3-58c6-4bf0-98e9-7665d6b19f11",
   "metadata": {},
   "source": [
    "## Submit the results\n",
    "\n",
    "* Submit your results here: https://courses.datatalks.club/mlops-zoomcamp-2025/homework/hw4\n",
    "* It's possible that your answers won't match exactly. If it's the case, select the closest one. "
   ]
  }
 ],
 "metadata": {
  "kernelspec": {
   "display_name": "Python 3 (ipykernel)",
   "language": "python",
   "name": "python3"
  },
  "language_info": {
   "codemirror_mode": {
    "name": "ipython",
    "version": 3
   },
   "file_extension": ".py",
   "mimetype": "text/x-python",
   "name": "python",
   "nbconvert_exporter": "python",
   "pygments_lexer": "ipython3",
   "version": "3.13.5"
  }
 },
 "nbformat": 4,
 "nbformat_minor": 5
}
